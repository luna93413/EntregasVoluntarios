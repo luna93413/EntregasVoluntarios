{
 "cells": [
  {
   "cell_type": "markdown",
   "id": "71892e25",
   "metadata": {},
   "source": [
    "# Resolución de ecuaciones en derivadas parciales: la ecuación de Schrödinger. Estudio del coeficiente de transmisión.\n",
    "\n",
    "En este informe se ha considerado como estado inicial una función de onda de tipo gaussiano, lo que permite simular una partícula deslocalizada con una cierta dispersión en el espacio. El objetivo principal ha sido estudiar el comportamiento del coeficiente de transmisión de dicha partícula al variar la altura de la barrera de potencial y el número de separaciones espaciales $N$ en los que se ha discretizado el espacio de la simulación. \n",
    "Para ello, ha sido necesario resolver la ecuación de Schrödinger independiente del tiempo utilizando la discretización, lo que permite aproximar las derivadas mediante diferencias finitas y simular la evolución de la función de onda en el tiempo y el espacio. \n",
    "\n",
    "\n",
    "Consideramos una barrera de potencial constante $V_0$ entre $x = -a$ y $x = a$ y  cero fuera de esta región. Para obtener una expresión teórica de los coeficientes del transmisión se debe resolver la ecuación de Schrödinger independiente del tiempo para el caso de que la energía de la partícula sea mayor y menor que el potencial.  \n",
    "En mecánica cuántica, incluso cuando la energía de la partícula es menor que la altura de la barrera, existe una probabilidad no nula de transmisión, fenómeno que se conoce como **efecto túnel**.\n",
    "\n",
    "---\n",
    "\n",
    "## Ondas Transmitidas y Reflejadas para $E > V_0$\n",
    "\n",
    "Cuando una partícula cuántica con energía  superior a la altura de una barrera de potencial se aproxima a dicha barrera, su comportamiento se describe mediante funciones de onda con carácter oscilatorio en todas las regiones del espacio.\n",
    "\n",
    "Existen tres regiones diferenciadas:\n",
    "\n",
    "La región 1 ($x<0$) antes de la barrera, la región 3 ($x>a$) después de la barrera, ambas a potencial nulo, y región 2 dentro de la barrera, a potencial constante $V_0$.\n",
    "\n",
    "\n",
    "La ecuación de Schrödinger en las regiones donde el potencial es nulo es:\n",
    "\n",
    "$-\\frac{\\hbar^2}{2m} \\frac{d^2 \\psi(x)}{dx^2} = E\\psi(x)$\n",
    "\n",
    "Para la región intermedia:\n",
    "\n",
    "$-\\frac{\\hbar^2}{2m} \\frac{d^2 \\psi(x)}{dx^2} + V_0\\psi(x) = E\\psi(x)$\n",
    "\n",
    "Se define las constantes de onda, positivas, para las regiones 1 y 2 como \n",
    " $k = \\frac{\\sqrt{2mE}}{\\hbar}$\n",
    "y para la región 3 como \n",
    " $q = \\frac{\\sqrt{2m(E - V_0)}}{\\hbar}$\n",
    "\n",
    "Para las tres ecuaciones proponemos como solución ondas viajeras, una combinación lineal de exponenciales complejas. Para $x < 0$ la solución es \n",
    "\n",
    "  $\\psi_1(x) = A_1 e^{ikx} + B_1 e^{-ikx} $\n",
    "  \n",
    "donde $e^{ikx}$ es la onda incidente que viaja hacia la derecha y $e^{-ikx}$ la onda reflejada, que viaja hacia la izquierda. Para la región intermedia tenemos el mismo tipo de solución, pero la onda viaja con la constante de propagación $q$ debido a la presencia del potencial. Para $x>a$ sólo hay onda transmitida hacia la derecha $\\psi_3(x) = A_3 e^{ikx}$\n",
    " \n",
    "Se observa que en la región 1 la partícula tiene una probabilidad de reflejarse  **a pesar de que la energía de la partícula supera la altura de la barrera**. Esto es algo imposible en la mecánica clásica. En mecánica cuántica, la partícula tiene cierta probabilidad de ser reflejada debido a que considera su carácter ondulatorio. \n",
    "\n",
    "![Transmisión](Transmisión.png)\n",
    "\n",
    "---\n",
    "\n",
    "## Efecto túnel $E<V_0$\n",
    "\n",
    "En este caso, únicamente cambia la parte de la función de onda de la región 2, ya que para que la constante sea real y positiva debemos definir:\n",
    "\n",
    "$\n",
    "k = \\sqrt{\\frac{2m (V_0 - E)}{\\hbar^2}}\n",
    "$\n",
    "\n",
    "Por lo tanto, en la solución aparecen exponenciales reales:\n",
    "\n",
    "$\n",
    "\\psi_2(x) = A e^{k x} + B e^{-k x}\n",
    "$\n",
    "\n",
    "En este régimen, la función de onda **no es oscilatoria** dentro de la barrera, sino que decrece exponencialmente.  \n",
    "Sin embargo, la función de onda no se anula  al otro lado de la barrera, pues para x>a la solución que discutimos para el primer caso es también válida, lo que implica que existe una **probabilidad finita de que la partícula atraviese la barrera**, aunque su energía sea menor que $V_0$.  \n",
    "Este fenómeno, imposible en la física clásica, es conocido como **efecto túnel**.\n",
    "\n",
    "![Región prohibida](Region_prohibida.png)"
   ]
  },
  {
   "cell_type": "markdown",
   "id": "32253ec4",
   "metadata": {},
   "source": [
    "# Cálculo de los coeficientes de transmisión. \n",
    "Al imponer condiciones de continuidad de la función de onda y su derivada en los límites del potencial se pueden calcular los coeficientes de transmisión. \n",
    "\n",
    "Para $E<V_0$ obtenemos \n",
    "\n",
    "$T = \\frac{4E(V_0 - E)}{4E(V_0 - E) + V_0^2 \\sinh^2(\\alpha a)}$\n",
    "\n",
    "Y para $E>V_0$\n",
    "\n",
    "$T = \\frac{4E(E - V_0)}{4E(E - V_0) + V_0^2 \\sin^2(k a)}$\n",
    "\n",
    "donde $a$ es la anchura del potencial, que en nuestro código es N/5.\n",
    "\n",
    "Con el fin de comparar los resultados experimentales con estas ecuaciones teóricas, las reescribimos en función de los parámetros del código. La energía de la onda se puede expresar en función de $V_0$ mediante el parámetro  $\\lambda = \\frac{V_0}{E}$. Además, el potencial para  $j \\in \\left[\\frac{2N}{5}, \\frac{3N}{5} \\right]$ toma el valor de $\\lambda {k_0}^2$, donde $k_0 = \\frac{2\\pi n_{ciclos}}{N}$, siendo  $n_{ciclos}$ el número de oscilaciones de la onda. \n",
    "\n",
    "Como  se ha reescalado $\\hbar$= 1 y $m = 1/2$, el número de onda se puede escribir como \n",
    "\n",
    "$k = \\sqrt{\\frac{2m|V_0 - E|}{\\hbar^2}}$= $\\frac{2\\pi}{5} n_{ciclos} \\sqrt{|1 - \\lambda|}$\n",
    "\n",
    "para $\\lambda > 1 $ en el caso de que $E<V_0$ y para $\\lambda < 1$ si $E>V_0$.\n",
    "\n",
    "Por tanto, los coeficientes de transmisión en función de los parámetros del código son: \n",
    "\n",
    "$\n",
    "K(\\lambda) = \\frac{4(\\lambda - 1)}{4(\\lambda - 1) + \\lambda^2 \\sinh^2 \\left( \\frac{2\\pi}{5} n_{ciclos} \\sqrt{\\lambda - 1} \\right)} \\quad \\text{para } V_0 > E\n",
    "$\n",
    "\n",
    "$\n",
    "K(\\lambda) = \\frac{4(1 - \\lambda)}{4(1 - \\lambda) + \\lambda^2 \\sin^2 \\left( \\frac{2\\pi}{5} n_{ciclos} \\sqrt{1 - \\lambda} \\right)} \\quad \\text{para } V_0 < E\n",
    "$\n"
   ]
  },
  {
   "cell_type": "markdown",
   "id": "a445b4ad",
   "metadata": {},
   "source": [
    "A continuación se han representado los valores teóricos de $K$ en función de $\\lambda$ para ambos casos. "
   ]
  },
  {
   "cell_type": "markdown",
   "id": "372bff0c",
   "metadata": {},
   "source": [
    "![Representación del coeficiente.caso1](K1.png)\n",
    "\n",
    "En esta gráfica la partícula  tiene energía suficiente para superar la barrera desde el punto de vista clásico ($\\lambda$ toma valores entre 0 y 1). No obstante, el hecho de que la barrera tenga una longitud finita implica que la onda incidente puede experimentar el fenómeno de interferencia múltiple dentro de la barrera.\n",
    " El término del seno oscila periódicamente en función de $\\sqrt{1-\\lambda}$, dando lugar a oscilaciones en el valor de $K(\\lambda)$.\n",
    "\n",
    "Estas oscilaciones son el resultado de interferencias cuánticas entre las ondas reflejadas en los bordes de la barrera, de forma análoga a un interferómetro óptico (como el de Fabry–Pérot).\n",
    "\n",
    "Cuando el argumento del seno es un múltiplo de $\\pi$, el seno se anula y la transmisión alcanza su valor máximo ($K=1$), dando lugar a resonancias en la transmisión.\n",
    "De forma análoga, el interferómetro la condición de resonancia se da cuando la distancia entre los dos espejos es múltiplo entero de media longitud de onda. Lejos de la resonancia, se produce interferencia destructiva entre las dos ondas reflejadas en los espejos y la trasmisión disminuye.\n",
    "\n",
    "Además, observamos que cuando $\\lambda \\rightarrow 0$, es decir, cuando la energía de la onda supera en gran medida al potencial, el coeficiente de transmisión tiende a la unidad.\n",
    "\n"
   ]
  },
  {
   "cell_type": "markdown",
   "id": "ce6a9adf",
   "metadata": {},
   "source": [
    "![Representación del coeficiente.caso1](K2.png)\n",
    "\n",
    "En este caso, la energía de la partícula es menor que la altura de la barrera, por lo que desde el punto de vista clásico, la partícula no debería poder atravesarla. Sin embargo, debido a la naturaleza ondulatoria de la materia, existe una probabilidad finita de que la partícula se encuentre a través de la región prohibida.\n",
    "El seno hiperbólico crece exponencialmente con el argumento, lo que implica que si aumentamos $\\lambda$ (una barrera más alta), la probabilidad de transmisión disminuye muy rápidamente."
   ]
  },
  {
   "cell_type": "markdown",
   "id": "b4924d30",
   "metadata": {},
   "source": [
    "Las siguientes gráficas muestran los valores experimentales de $K(\\lambda)$. Se han realizado para 500 experimentos, N=1000 y h=0.01. \n",
    "\n",
    "![lambda>1](lambdamayor1.png)\n",
    "\n",
    "De acuerdo con la predicción teórica la transmisión decae a cero para valores de $\\lambda$ mayores que 2. Quizás para un mayor número de experimentos el detector hubiera medido la partícula en algún momento para valores de $\\lambda$ mayores. Esto se debe a que, en mecánica cuántica, la probabilidad de transmisión nunca es exactamente cero, incluso para barreras muy altas, debido a que su naturaleza es probabilística.\n",
    "\n",
    "En el código, este fenómeno se simula imponiendo la condición de que si la probabilidad de que el detector encuentre la partícula en cada experimento es mayor que un número aleatorio con probabilidad uniforme entre 0 y 1 entonces se considera que se ha aceptado la partícula. Si se realizan pocos experimentos, es posible que nunca se observe un evento de transmisión para valores altos de $\\lambda$, simplemente porque la probabilidad es extremadamente baja. Sin embargo, al aumentar el número de experimentos, la probabilidad acumulada de observar al menos un evento de transmisión crece, y eventualmente el detector podría registrar la partícula.\n",
    "\n",
    "![lambda<1](lambdamenor1.png)\n",
    "\n",
    "Para $V_0<E$ la tendencia de los puntos se asemeja a la predicha por la teoría, pero no se observan las oscilaciones del coeficiente de transmisión debido al fenómeno de resonancia. "
   ]
  },
  {
   "cell_type": "markdown",
   "id": "11395769",
   "metadata": {},
   "source": [
    "A continuación, se ha representado el coeficiente de transmisión en función del número $N$ de separaciones espaciales consideradas para nuestro sistema. En el guión de prácticas nos preguntaban para qué $N$ el valor del coeficiente converge. Experimentalmente, se han obtenido valores de $K$ muy similares, lo que parece sugerir que no existe ninguna dependencia entre ambas variables. \n",
    "\n",
    "Sin embargo, si modificamos $N$ en el código estamos alterando la anchura del potencial, pues toma el valor de $N/5$ y la anchura de la gaussiana $\\sigma=Nh/16$. La energía de la onda permanece inalterada pues es proporcional a $k_0=2\\pi n_{ciclos}/Nh$, siendo $n_{ciclos}=N/20$. \n",
    "\n",
    "Tampoco se trata de una cuestión de precisión, que se controla con la variable $h$, que es el tamaño de las separaciones espaciales y afecta a la discretización del sistema.\n",
    "\n",
    "![ajusteexpo](K(N.).png)\n"
   ]
  },
  {
   "cell_type": "markdown",
   "id": "d4d2e256",
   "metadata": {},
   "source": [
    "Para estimar  la probabilidad de que la partícula haya sido transmitida, se ha determinado, en una primera simulación, el instante temporal $n_D$ en el que la función  $P_D(t)$, que representa la probabilidad de detección al lado derecho de la barrera, alcanza su valor máximo global. A partir de ahí, el resto de simulaciones se han dejado evolucionar hasta ese mismo instante $t=n_D$. \n",
    "\n",
    "Utilizar el máximo global de $P_D(t)$  como referencia tiene sentido físico: es el momento más representativo para evaluar la transmisión, ya que coincide con el instante en el que la mayor parte de la componente transmitida se encuentra dentro del dominio del detector. Además, se ha elegido un tiempo de evolución suficientemente corto como para evitar que la onda rebote contra la pared derecha y regrese, lo cual aumentaría artificialmente la probabilidad registrada y, por tanto, conllevaría un coeficiente de transmisión mayor del esperado.\n",
    "\n",
    "Para $\\lambda=0.5$ se detecta el máximo global de la probabilidad en el tiempo 671.\n",
    "\n",
    "![Pro](Prob.detector.png)"
   ]
  },
  {
   "cell_type": "markdown",
   "id": "a260f431",
   "metadata": {},
   "source": [
    "## Coeficiente de transmisión en función del número de barreras n.\n",
    "Los parámetros que se han mantenido fijos son N=6000, h=0.01 , $n_{ciclos}=N/20$ y $\\lambda=0.3$ y el ancho de las barreras y su separación se ha mantenido a un valor de 200. \n",
    "El comportamiendo del coeficiente de transmisión en función del número de barreras se ha ajustado a una exponencial decreciente.\n",
    "\n",
    "\n",
    "![ajusteexpo](K(lambda).png)\n",
    "\n",
    "<video width=\"600\" controls>\n",
    " <source src=\"Animación.multibarrera.mp4\" type=\"video/mp4\">\n",
    "\n",
    "\n"
   ]
  },
  {
   "cell_type": "markdown",
   "id": "c10cb8dc",
   "metadata": {},
   "source": [
    "Para N=10000 obtenemos un pico de la gaussiana más pronunciado. \n",
    "\n",
    "<video width=\"600\" controls>\n",
    " <source src=\"Animación.multibarrera2.mp4\" type=\"video/mp4\">"
   ]
  },
  {
   "cell_type": "markdown",
   "id": "7062449f",
   "metadata": {},
   "source": [
    "## Cálculo de valores esperados y errores en el código\n",
    "\n",
    "En el código, en cada paso temporal, se calcula el valor esperado y la varianza (error) de la **posición** y la **energía cinética** de la partícula. \n",
    "\n",
    "---\n",
    "### Valor esperado y varianza de la posición\n",
    "\n",
    "El valor esperado de la posición (índice espacial $j$) se calcula como:\n",
    "\n",
    "$\n",
    "\\langle j \\rangle = \\sum_{j=0}^{N} j \\, |\\Phi_j|^2 \\, h\n",
    "$\n",
    "\n",
    "donde $ |\\Phi_j|^2 $ es la probabilidad de encontrar la partícula en la posición $j $, y \\( h \\) es el espaciado espacial.\n",
    "\n",
    "La varianza de la posición es:\n",
    "$\n",
    "\\text{Var}(j) = \\langle j^2 \\rangle - \\langle j \\rangle^2= \\sum_{j=0}^{N} j^2 \\, |\\Phi_j|^2 \\, h\n",
    "$\n",
    "\n",
    "El error asociado (desviación típica) es la raíz cuadrada de la varianza:\n",
    "\n",
    "---\n",
    "\n",
    "### Valor esperado y varianza de la energía cinética\n",
    "\n",
    "La energía cinética en mecánica cuántica se expresa en términos del operador momento al cuadrado:\n",
    "\n",
    "$\n",
    "\\hat{T} = \\frac{\\hat{p}^2}{2m}\n",
    "$\n",
    "donde el operador momento es $\\hat{p} = -i \\hbar \\frac{d}{dx}$.\n",
    "\n",
    "En unidades naturales $\\hbar = 1$, $m = 1/2$, el operador cinético se reduce a:\n",
    "\n",
    "$\n",
    "\\hat{T} = -\\frac{1}{2} \\frac{d^2}{dx^2}\n",
    "$\n",
    "\n",
    "El valor esperado de la energía cinética se ha calculado usando el operador cinético discreto:\n",
    "\n",
    "$\n",
    "\\langle T \\rangle = \\sum_{j=2}^{N-1} \\left[ -\\frac{1}{2} \\Phi_j^* \\frac{\\Phi_{j+1} - 2\\Phi_j + \\Phi_{j-1}}{h^2} \\right] h\n",
    "$\n",
    "\n",
    "Para la **varianza de la energía cinética**, se necesita el valor esperado del operador cinético al cuadrado, que implica la cuarta derivada discreta:\n",
    "\n",
    "$\n",
    "\\langle T^2 \\rangle = \\sum_{j=2}^{N-1} \\left[ \\frac{1}{4} \\Phi_j^* \\frac{\\Phi_{j-2} - 4\\Phi_{j-1} + 6\\Phi_j - 4\\Phi_{j+1} + \\Phi_{j+2}}{h^4} \\right] h\n",
    "$\n",
    "\n",
    "La varianza es:\n",
    "\n",
    "$\n",
    "\\text{Var}(T) = \\langle T^2 \\rangle - \\langle T \\rangle^2\n",
    "$\n",
    "\n",
    "El coeficiente de transmisión también lleva asociada una incertidumbre, pero no se ha calculado por falta de tiempo.\n",
    "\n",
    "\n"
   ]
  },
  {
   "cell_type": "markdown",
   "id": "2b3eb631",
   "metadata": {},
   "source": [
    "##  Valor esperado de la energía cinética de la partícula en función del tiempo\n",
    "\n",
    "El análisis de la evolución temporal del valor esperado de la energía cinética muestra diferencias claras según la altura del potencial:\n",
    "\n",
    "  Para potenciales bajos, la energía cinética de la partícula se mantiene prácticamente constante a lo largo del tiempo, salvo  oscilaciones durante el  intervalo en el que la partícula atraviesa la barrera. Esto se debe a que, al ser el potencial bajo, la mayor parte de la energía total de la partícula sigue siendo cinética y la interacción con la barrera apenas afecta su movimiento. En las gráficas se ve que para el caso de $\\lambda$=0.01 las fluctuaciones en la energía de la onda cuando atraviesa el potencial son mucho más pequeñas que las caidas más pronunciadas para el caso de $\\lambda$=0.5.\n",
    "\n",
    " Para potenciales altos se observa una disminución significativa y sostenida de la energía cinética durante el tiempo en que la partícula se encuentra en la región de la barrera.\n",
    "\n",
    " **En las gráficas los valores experimentales se han marcado en naranja y los errores en negro.** Para $\\lambda$=0.01 y $\\lambda$=0.5 las gráfica presentan gran simetría. Esto se debe a que la onda describe prácticamente el mismo movimiento al reflejarse, ya que apenas se ve perturbada por el potencial. Por ejemplo, para el tiempo 1000 en la gráfica de $\\lambda$=0.01 se ve claramente que la onda se ha reflejado. \n",
    " \n",
    " Lo mismo ocurre para $\\lambda$=0.5 en el tiempo $t=250$, puesto que si observamos la gráfica expuesta más adelante del valor esperado de la posición en función del tiempo se deduce que en ese momento la onda vuelve a recorrer el mismo camino en sentido inverso. \n"
   ]
  },
  {
   "cell_type": "markdown",
   "id": "1dfe11e6",
   "metadata": {},
   "source": [
    "![energ0.5](Ec_lambda=0.5.png)"
   ]
  },
  {
   "cell_type": "markdown",
   "id": "70fefa3f",
   "metadata": {},
   "source": [
    "![energ0.01](Ec0.01.png)"
   ]
  },
  {
   "cell_type": "markdown",
   "id": "8ab732a2",
   "metadata": {},
   "source": [
    "![energ2](Ec_lambda=2.png)"
   ]
  },
  {
   "cell_type": "markdown",
   "id": "acc26dc0",
   "metadata": {},
   "source": [
    "##  Valor esperado de la posición de la partícula en función del tiempo\n",
    "\n",
    "El análisis del valor esperado de la posición $\\langle j \\rangle$ a lo largo del tiempo permite visualizar cómo evoluciona la localización media de la partícula durante el experimento.\n",
    "\n",
    "Para $\\lambda = 0.5$  aparecen dos picos bien definidos en la evolución temporal de $\\langle j \\rangle$. El primer pico (a 900) corresponde al avance de la onda incidente que logra atravesar la barrera y se refleja en la pared concentrándose toda la onda en esa región durante un instante, mientras que el segundo pico (a 250) se debe a la parte de la onda que es reflejada y regresa hacia la región inicial. Para el caso de  $\\lambda = 2$ la onda apenas llega a atravesar la barrera de potencial y el valor esperado de la posición se mantiene por debajo de 400.\n",
    "\n",
    "El potencial en el código se define como\n",
    "$\n",
    "V_j = \n",
    "\\begin{cases}\n",
    "\\lambda\\, k_0^2 & \\text{si } j \\in \\left[\\frac{2N}{5},\\, \\frac{3N}{5}\\right] \\\\\n",
    "0 & \\text{en otro caso}\n",
    "\\end{cases}\n",
    "$\n",
    "\n",
    "donde $N = 1000$,  luego el potencial se sitúa en el rango de valores de N de 600 hasta 667 aproximadamente.\n",
    "\n",
    "\n"
   ]
  },
  {
   "cell_type": "markdown",
   "id": "dfc7d781",
   "metadata": {},
   "source": [
    "![j0.5](jpara0.5.png)"
   ]
  },
  {
   "cell_type": "markdown",
   "id": "c8dd8f22",
   "metadata": {},
   "source": [
    "![j2](jpara2.png)"
   ]
  },
  {
   "cell_type": "markdown",
   "id": "81de7faf",
   "metadata": {},
   "source": [
    "## Simulaciones\n",
    "\n",
    "La siguiente simulación se ha realizado para $\\lambda=0.5$, $N=1000$, 2000 pasos temporales y espaciado h=0.01. \n",
    "\n",
    "<video width=\"600\" controls>\n",
    " <source src=\"lambda=0.5. N=10000.mp4\" type=\"video/mp4\">\n"
   ]
  },
  {
   "cell_type": "markdown",
   "id": "124bec1e",
   "metadata": {},
   "source": [
    "En este caso $\\lambda=1$, $N=1000$, 2000 pasos temporales y espaciado h=0.01. \n",
    "\n",
    "<video width=\"600\" controls>\n",
    " <source src=\"lambda=1. N=10000.mp4\" type=\"video/mp4\">"
   ]
  },
  {
   "cell_type": "markdown",
   "id": "a8b8b2b0",
   "metadata": {},
   "source": [
    "En la última simulación el pico de la gaussiana no está a la misma altura que el potencial a pesar de que $\\lambda$ es uno, puesto que la altura del pico viene dada por la expresión: \n",
    "\n",
    "$\n",
    "\\phi_{\\text{máx}} = \\frac{1}{\\sqrt{2\\pi \\sigma^2}}\n",
    "$\n",
    "\n",
    "donde la anchura $\\sigma$ depende de $N$ como $\\sigma = N h / 16$. \n",
    "\n",
    "Mientras que la altura del potencial en el código es\n",
    "\n",
    "$\n",
    "V_0 = \\lambda \\left(2\\pi \\frac{n_{\\text{ciclos}}}{N}\\right)^2\n",
    "$\n",
    "\n",
    "Como $n_{\\text{ciclos}} = N/16$, la altura de la barrera no depende de $N$.\n",
    "\n",
    "Por tanto, al aumentar $N$, el pico de la gaussiana crece respecto a la altura del potencial, pero esto no implica que la partícula tenga más capacidad de atravesar la barrera, ya que su energía total sigue siendo la misma.\n",
    "\n",
    "Por último, comentar que se ha asegurado que durante todos los programas se conserva la norma de la función de onda. Además, se ha normalizado a uno.\n",
    "\n",
    "![Norma](norma.png)"
   ]
  },
  {
   "cell_type": "markdown",
   "id": "925acde8",
   "metadata": {},
   "source": [
    "\n",
    "# Bibliografía\n",
    "- Potenciales en una dimensión – Barrera de potencial – Efecto túnel\n",
    "  https://materias.df.uba.ar/f4a2024c1/files/2020/04/clase_20_216.pdf\n",
    "- Lecture 20 – Quantum Tunneling of Electrons. Notes by MIT Student (and MZB) \n",
    "https://ocw.mit.edu/courses/10-626-electrochemical-energy-systems-spring-2014/21ab97bf1139670415f5338f163d7360_MIT10_626S14_Lec20.pdf\n"
   ]
  }
 ],
 "metadata": {
  "kernelspec": {
   "display_name": "Python 3",
   "language": "python",
   "name": "python3"
  },
  "language_info": {
   "codemirror_mode": {
    "name": "ipython",
    "version": 3
   },
   "file_extension": ".py",
   "mimetype": "text/x-python",
   "name": "python",
   "nbconvert_exporter": "python",
   "pygments_lexer": "ipython3",
   "version": "3.11.9"
  }
 },
 "nbformat": 4,
 "nbformat_minor": 5
}
